{
 "cells": [
  {
   "cell_type": "code",
   "execution_count": 1,
   "metadata": {},
   "outputs": [
    {
     "name": "stdout",
     "output_type": "stream",
     "text": [
      "cuda\n"
     ]
    }
   ],
   "source": [
    "import torch\n",
    "import numpy as np\n",
    "import time\n",
    "device='cuda' if torch.cuda.is_available() else 'cpu'\n",
    "print(device)\n",
    "block_size=8\n",
    "batch_size=4"
   ]
  },
  {
   "cell_type": "code",
   "execution_count": 2,
   "metadata": {},
   "outputs": [
    {
     "name": "stdout",
     "output_type": "stream",
     "text": [
      "0.0040\n"
     ]
    }
   ],
   "source": [
    "start=time.time()\n",
    "zeros=torch.zeros(1,1)\n",
    "end=time.time()\n",
    "\n",
    "elapsed=end-start\n",
    "print(f\"{elapsed:.4f}\")"
   ]
  },
  {
   "cell_type": "code",
   "execution_count": 16,
   "metadata": {
    "scrolled": true
   },
   "outputs": [
    {
     "name": "stdout",
     "output_type": "stream",
     "text": [
      "['\\n', ' ', '!', '\"', '&', \"'\", '(', ')', ',', '-', '.', '0', '1', '2', '3', '4', '5', '6', '7', '8', '9', ':', ';', '?', 'A', 'B', 'C', 'D', 'E', 'F', 'G', 'H', 'I', 'J', 'K', 'L', 'M', 'N', 'O', 'P', 'Q', 'R', 'S', 'T', 'U', 'V', 'W', 'Y', 'Z', 'a', 'b', 'c', 'd', 'e', 'f', 'g', 'h', 'i', 'j', 'k', 'l', 'm', 'n', 'o', 'p', 'q', 'r', 's', 't', 'u', 'v', 'w', 'x', 'y', 'z', '\\ufeff']\n"
     ]
    }
   ],
   "source": [
    "with open('wiz_of_oz.txt','r',encoding='utf-8') as f:\n",
    "    text=f.read()\n",
    "\n",
    "chars=sorted(set(text))\n",
    "print(chars)\n",
    "vocab_size=len(chars)"
   ]
  },
  {
   "cell_type": "code",
   "execution_count": 4,
   "metadata": {},
   "outputs": [
    {
     "name": "stdout",
     "output_type": "stream",
     "text": [
      "tensor([75, 27, 63, 66, 63, 68, 56, 73,  1, 49, 62, 52,  1, 68, 56, 53,  1, 46,\n",
      "        57, 74, 49, 66, 52,  1, 57, 62,  1, 38, 74,  0,  0,  0,  1,  1, 24,  1,\n",
      "        29, 49, 57, 68, 56, 54, 69, 60,  1, 41, 53, 51, 63, 66, 52,  1, 63, 54,\n",
      "         1, 43, 56, 53, 57, 66,  1, 24, 61, 49, 74, 57, 62, 55,  1, 24, 52, 70,\n",
      "        53, 62, 68, 69, 66, 53, 67,  0,  1,  1,  1,  1, 57, 62,  1, 49, 62,  1,\n",
      "        44, 62, 52, 53, 66, 55, 66, 63, 69, 62])\n"
     ]
    }
   ],
   "source": [
    "string_to_int={ch:i for i,ch in enumerate(chars)}\n",
    "int_to_string={i:ch for i,ch in enumerate(chars)}\n",
    "encode=lambda s:[string_to_int[c] for c in s]\n",
    "decode=lambda l:''.join([int_to_string[i] for i in l])\n",
    "\n",
    "data= torch.tensor(encode(text),dtype=torch.long)\n",
    "print(data[:100])"
   ]
  },
  {
   "cell_type": "code",
   "execution_count": 20,
   "metadata": {},
   "outputs": [
    {
     "name": "stdout",
     "output_type": "stream",
     "text": [
      "tensor([146755,  63091,  93508, 105981])\n",
      "inputs:\n",
      "tensor([[52, 55, 53,  1, 63, 54,  1, 68],\n",
      "        [ 1, 49, 62, 52,  1, 71, 53, 62],\n",
      "        [ 1, 71, 53,  1, 52, 63, 22,  1],\n",
      "        [61,  1, 49, 60, 60, 10,  0,  0]])\n",
      "targets:\n",
      "tensor([[55, 53,  1, 63, 54,  1, 68, 56],\n",
      "        [49, 62, 52,  1, 71, 53, 62, 68],\n",
      "        [71, 53,  1, 52, 63, 22,  1, 73],\n",
      "        [ 1, 49, 60, 60, 10,  0,  0,  0]])\n"
     ]
    }
   ],
   "source": [
    "n=int(0.8*len(data))\n",
    "train_data=data[:n]\n",
    "val_data=data[n:]\n",
    "\n",
    "def get_batch(split):\n",
    "    data=train_data if split==\"train\" else val_data\n",
    "    ix=torch.randint(len(data)-block_size, (batch_size,))\n",
    "    print(ix)\n",
    "    x=torch.stack([data[i:i+block_size]for i in ix ])\n",
    "    y=torch.stack([data[i+1:i+block_size+1]for i in ix ])\n",
    "    return x,y\n",
    "x,y=get_batch('train')\n",
    "print('inputs:')\n",
    "print(x)\n",
    "print('targets:')\n",
    "print(y)"
   ]
  },
  {
   "cell_type": "code",
   "execution_count": 19,
   "metadata": {},
   "outputs": [
    {
     "name": "stdout",
     "output_type": "stream",
     "text": [
      "when input is tensor([75]) output is tensor(27)\n",
      "when input is tensor([75, 27]) output is tensor(63)\n",
      "when input is tensor([75, 27, 63]) output is tensor(66)\n",
      "when input is tensor([75, 27, 63, 66]) output is tensor(63)\n",
      "when input is tensor([75, 27, 63, 66, 63]) output is tensor(68)\n",
      "when input is tensor([75, 27, 63, 66, 63, 68]) output is tensor(56)\n",
      "when input is tensor([75, 27, 63, 66, 63, 68, 56]) output is tensor(73)\n",
      "when input is tensor([75, 27, 63, 66, 63, 68, 56, 73]) output is tensor(1)\n"
     ]
    }
   ],
   "source": [
    "\n",
    "x=train_data[:block_size]\n",
    "y=train_data[1:block_size+1]\n",
    "for t in range(block_size):\n",
    "    context=x[:t+1]\n",
    "    target=y[t]\n",
    "    print(\"when input is\",context,\"output is\",target)"
   ]
  },
  {
   "cell_type": "code",
   "execution_count": null,
   "metadata": {},
   "outputs": [],
   "source": []
  },
  {
   "cell_type": "code",
   "execution_count": null,
   "metadata": {},
   "outputs": [],
   "source": []
  },
  {
   "cell_type": "code",
   "execution_count": null,
   "metadata": {},
   "outputs": [],
   "source": []
  },
  {
   "cell_type": "code",
   "execution_count": null,
   "metadata": {},
   "outputs": [
    {
     "name": "stdout",
     "output_type": "stream",
     "text": [
      "tensor([ 31, -85, -48,  90, -48,  36])\n"
     ]
    }
   ],
   "source": [
    "'''rand=torch.randint(-100,100,(6,))\n",
    "print(rand)'''"
   ]
  },
  {
   "cell_type": "code",
   "execution_count": null,
   "metadata": {},
   "outputs": [
    {
     "data": {
      "text/plain": [
       "tensor([[0.1000, 1.2000],\n",
       "        [2.2000, 3.1000],\n",
       "        [4.9000, 5.2000]])"
      ]
     },
     "execution_count": 8,
     "metadata": {},
     "output_type": "execute_result"
    }
   ],
   "source": [
    "'''tensor=torch.tensor([[0.1,1.2],[2.2,3.1],[4.9,5.2]])\n",
    "tensor'''"
   ]
  },
  {
   "cell_type": "code",
   "execution_count": null,
   "metadata": {},
   "outputs": [
    {
     "data": {
      "text/plain": [
       "tensor([[0., 0., 0.],\n",
       "        [0., 0., 0.]])"
      ]
     },
     "execution_count": 9,
     "metadata": {},
     "output_type": "execute_result"
    }
   ],
   "source": [
    "'''zeros=torch.zeros(2,3)\n",
    "zeros'''"
   ]
  },
  {
   "cell_type": "code",
   "execution_count": null,
   "metadata": {},
   "outputs": [
    {
     "data": {
      "text/plain": [
       "tensor([[-1.5870e-02,  1.8077e-42,  0.0000e+00],\n",
       "        [ 0.0000e+00,  0.0000e+00,  0.0000e+00]])"
      ]
     },
     "execution_count": 10,
     "metadata": {},
     "output_type": "execute_result"
    }
   ],
   "source": [
    "'''input=torch.empty(2,3)\n",
    "input'''"
   ]
  },
  {
   "cell_type": "code",
   "execution_count": null,
   "metadata": {},
   "outputs": [
    {
     "data": {
      "text/plain": [
       "tensor([0, 1, 2, 3, 4])"
      ]
     },
     "execution_count": 11,
     "metadata": {},
     "output_type": "execute_result"
    }
   ],
   "source": [
    "'''arrange=torch.arange(5)\n",
    "arrange'''"
   ]
  },
  {
   "cell_type": "code",
   "execution_count": null,
   "metadata": {},
   "outputs": [
    {
     "name": "stdout",
     "output_type": "stream",
     "text": [
      "0.18363166\n",
      "0.13734961\n"
     ]
    }
   ],
   "source": [
    "'''torch_r1=torch.rand(100,100,100,100).to(device)\n",
    "torch_r2=torch.rand(100,100,100,100).to(device)\n",
    "np_r1=torch.rand(100,100,100,100)\n",
    "np_r2=torch.rand(100,100,100,100)\n",
    "\n",
    "start=time.time()\n",
    "rand=(torch_r1 @ torch_r2)\n",
    "end=time.time()\n",
    "\n",
    "elap=end-start\n",
    "print(f\"{elap:.8f}\")\n",
    "\n",
    "start=time.time()\n",
    "rand=np.multiply(np_r1,np_r2)\n",
    "end=time.time()\n",
    "\n",
    "elap=end-start\n",
    "print(f\"{elap:.8f}\")'''"
   ]
  },
  {
   "cell_type": "code",
   "execution_count": null,
   "metadata": {},
   "outputs": [
    {
     "name": "stdout",
     "output_type": "stream",
     "text": [
      "tensor([3.7664, 0.8047, 4.7758], grad_fn=<SqueezeBackward4>)\n"
     ]
    }
   ],
   "source": [
    "'''import torch.nn as nn\n",
    "sample=torch.tensor([10.,10.,10.])\n",
    "linear=nn.Linear(3,3,bias=False)\n",
    "print(linear(sample))'''"
   ]
  },
  {
   "cell_type": "code",
   "execution_count": null,
   "metadata": {},
   "outputs": [
    {
     "name": "stdout",
     "output_type": "stream",
     "text": [
      "tensor([0.0900, 0.2447, 0.6652])\n"
     ]
    }
   ],
   "source": [
    "'''import torch.nn.functional as f\n",
    "\n",
    "tensor1=torch.tensor([1.0,2.0,3.0])\n",
    "\n",
    "softmax_op=f.softmax(tensor1,dim=0)\n",
    "\n",
    "print(softmax_op)'''"
   ]
  },
  {
   "cell_type": "code",
   "execution_count": null,
   "metadata": {},
   "outputs": [
    {
     "name": "stdout",
     "output_type": "stream",
     "text": [
      "torch.Size([4, 6])\n",
      "tensor([[-0.8019,  0.0300, -2.0528, -0.1077, -0.2335,  0.2438],\n",
      "        [ 0.8781, -0.4543,  0.4655, -0.2003, -1.7381,  0.4319],\n",
      "        [-0.5354,  0.4364,  0.3836,  1.2006,  0.0204, -0.1417],\n",
      "        [-1.5653, -0.7696,  0.1794, -2.3546,  0.9259, -0.1425]],\n",
      "       grad_fn=<EmbeddingBackward0>)\n"
     ]
    }
   ],
   "source": [
    "'''vocab_size=80\n",
    "embedding_dim=6\n",
    "embedding=nn.Embedding(vocab_size,embedding_dim)\n",
    "\n",
    "ip_indices=torch.LongTensor([1,5,3,2])\n",
    "\n",
    "eb_op=embedding(ip_indices)\n",
    "\n",
    "print(eb_op.shape)\n",
    "print(eb_op)'''"
   ]
  },
  {
   "cell_type": "code",
   "execution_count": null,
   "metadata": {},
   "outputs": [],
   "source": []
  }
 ],
 "metadata": {
  "kernelspec": {
   "display_name": "cuda",
   "language": "python",
   "name": "python3"
  },
  "language_info": {
   "codemirror_mode": {
    "name": "ipython",
    "version": 3
   },
   "file_extension": ".py",
   "mimetype": "text/x-python",
   "name": "python",
   "nbconvert_exporter": "python",
   "pygments_lexer": "ipython3",
   "version": "3.11.9"
  }
 },
 "nbformat": 4,
 "nbformat_minor": 4
}
